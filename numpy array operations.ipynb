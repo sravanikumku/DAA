{
 "cells": [
  {
   "cell_type": "code",
   "execution_count": 1,
   "id": "66b6c211",
   "metadata": {},
   "outputs": [],
   "source": [
    "import numpy as np"
   ]
  },
  {
   "cell_type": "code",
   "execution_count": 9,
   "id": "714060b8",
   "metadata": {},
   "outputs": [
    {
     "data": {
      "text/plain": [
       "array([-5, -4, -3, -2, -1,  0,  1])"
      ]
     },
     "execution_count": 9,
     "metadata": {},
     "output_type": "execute_result"
    }
   ],
   "source": [
    "#a. Using Numpy, write a basic array of operations on single array to add x to each element of array and subtract y from each element of array. \n",
    "a=np.array([1,2,3,4,5,6,7])\n",
    "np.add(a,7)\n",
    "np.subtract(a,6)"
   ]
  },
  {
   "cell_type": "code",
   "execution_count": 13,
   "id": "28a4a4ba",
   "metadata": {},
   "outputs": [
    {
     "name": "stdout",
     "output_type": "stream",
     "text": [
      "ADD\n",
      "SUB\n",
      "MATMUL\n"
     ]
    },
    {
     "data": {
      "text/plain": [
       "array([[ 27,  33,  31],\n",
       "       [ 75,  90,  73],\n",
       "       [123, 147, 115]])"
      ]
     },
     "execution_count": 13,
     "metadata": {},
     "output_type": "execute_result"
    }
   ],
   "source": [
    "#b. Using Numpy, write a program to add, subtract and multiply two matrices. \n",
    "m1=np.array([[1,2,3],[4,5,6],[7,8,9]])\n",
    "m2=np.array([[8,9,2],[5,6,7],[3,4,5]])\n",
    "print(\"ADD\")\n",
    "np.add(m1,m2)"
   ]
  },
  {
   "cell_type": "code",
   "execution_count": 14,
   "id": "77628338",
   "metadata": {},
   "outputs": [
    {
     "name": "stdout",
     "output_type": "stream",
     "text": [
      "SUB\n"
     ]
    },
    {
     "data": {
      "text/plain": [
       "array([[-7, -7,  1],\n",
       "       [-1, -1, -1],\n",
       "       [ 4,  4,  4]])"
      ]
     },
     "execution_count": 14,
     "metadata": {},
     "output_type": "execute_result"
    }
   ],
   "source": [
    "print(\"SUB\")\n",
    "np.subtract(m1,m2)\n"
   ]
  },
  {
   "cell_type": "code",
   "execution_count": 15,
   "id": "dd81d9ae",
   "metadata": {},
   "outputs": [
    {
     "name": "stdout",
     "output_type": "stream",
     "text": [
      "MATMUL\n"
     ]
    },
    {
     "data": {
      "text/plain": [
       "array([[ 27,  33,  31],\n",
       "       [ 75,  90,  73],\n",
       "       [123, 147, 115]])"
      ]
     },
     "execution_count": 15,
     "metadata": {},
     "output_type": "execute_result"
    }
   ],
   "source": [
    "print(\"MATMUL\")\n",
    "np.matmul(m1,m2)"
   ]
  },
  {
   "cell_type": "code",
   "execution_count": 16,
   "id": "217d9740",
   "metadata": {},
   "outputs": [],
   "source": [
    "#. Write a Python program to do the following operations: Library: NumPy"
   ]
  },
  {
   "cell_type": "code",
   "execution_count": 20,
   "id": "45748b10",
   "metadata": {},
   "outputs": [
    {
     "data": {
      "text/plain": [
       "(2, 3, 3)"
      ]
     },
     "execution_count": 20,
     "metadata": {},
     "output_type": "execute_result"
    }
   ],
   "source": [
    "#i)\tCreate multi-dimensional arrays and find its shape and dimension \n",
    "a=np.array([[[1,2,3],[4,5,6],[7,8,9]],[[5,6,7],[9,5,2],[2,3,4]]])\n",
    "a.shape"
   ]
  },
  {
   "cell_type": "code",
   "execution_count": 22,
   "id": "af32bb0a",
   "metadata": {},
   "outputs": [
    {
     "data": {
      "text/plain": [
       "array([[0., 0., 0., 0., 0.],\n",
       "       [0., 0., 0., 0., 0.],\n",
       "       [0., 0., 0., 0., 0.],\n",
       "       [0., 0., 0., 0., 0.]])"
      ]
     },
     "execution_count": 22,
     "metadata": {},
     "output_type": "execute_result"
    }
   ],
   "source": [
    "#ii)\tCreate a matrix full of zeros and ones \n",
    "z=np.zeros((4,5))\n",
    "z\n"
   ]
  },
  {
   "cell_type": "code",
   "execution_count": 24,
   "id": "169be146",
   "metadata": {},
   "outputs": [
    {
     "data": {
      "text/plain": [
       "array([[1., 1., 1., 1.],\n",
       "       [1., 1., 1., 1.],\n",
       "       [1., 1., 1., 1.],\n",
       "       [1., 1., 1., 1.],\n",
       "       [1., 1., 1., 1.]])"
      ]
     },
     "execution_count": 24,
     "metadata": {},
     "output_type": "execute_result"
    }
   ],
   "source": [
    "o=np.ones((5,4))\n",
    "o"
   ]
  },
  {
   "cell_type": "code",
   "execution_count": 27,
   "id": "48b96d8b",
   "metadata": {},
   "outputs": [
    {
     "data": {
      "text/plain": [
       "array([[[1, 2],\n",
       "        [3, 4],\n",
       "        [5, 6]],\n",
       "\n",
       "       [[7, 8],\n",
       "        [9, 5],\n",
       "        [6, 7]],\n",
       "\n",
       "       [[9, 5],\n",
       "        [2, 2],\n",
       "        [3, 4]]])"
      ]
     },
     "execution_count": 27,
     "metadata": {},
     "output_type": "execute_result"
    }
   ],
   "source": [
    "#iii)\tReshape and flatten data in the array \n",
    "a=a.reshape(3,3,2)\n",
    "a"
   ]
  },
  {
   "cell_type": "code",
   "execution_count": 42,
   "id": "46f7a929",
   "metadata": {},
   "outputs": [
    {
     "data": {
      "text/plain": [
       "array([1, 2, 3, 4, 5, 6, 7, 8, 9, 5, 6, 7, 9, 5, 2, 2, 3, 4])"
      ]
     },
     "execution_count": 42,
     "metadata": {},
     "output_type": "execute_result"
    }
   ],
   "source": [
    "a=a.flatten()\n",
    "a"
   ]
  },
  {
   "cell_type": "code",
   "execution_count": 37,
   "id": "8237a5ce",
   "metadata": {},
   "outputs": [
    {
     "data": {
      "text/plain": [
       "array([[1, 2, 3, 7, 8],\n",
       "       [4, 5, 6, 5, 6],\n",
       "       [7, 8, 9, 8, 9]])"
      ]
     },
     "execution_count": 37,
     "metadata": {},
     "output_type": "execute_result"
    }
   ],
   "source": [
    "#iv)\tAppend data vertically and horizontally \n",
    "a1=np.array([[1,2,3],[4,5,6],[7,8,9]])\n",
    "a2=np.array([[7,8],[5,6],[8,9]])\n",
    "np.hstack((a1,a2))"
   ]
  },
  {
   "cell_type": "code",
   "execution_count": 39,
   "id": "8f98911e",
   "metadata": {},
   "outputs": [
    {
     "data": {
      "text/plain": [
       "array([[1, 2, 3],\n",
       "       [4, 5, 6],\n",
       "       [7, 8, 9],\n",
       "       [1, 2, 3],\n",
       "       [4, 5, 6]])"
      ]
     },
     "execution_count": 39,
     "metadata": {},
     "output_type": "execute_result"
    }
   ],
   "source": [
    "b2=[[1,2,3],[4,5,6]]\n",
    "np.vstack((a1,b2))"
   ]
  },
  {
   "cell_type": "code",
   "execution_count": 40,
   "id": "28cd380c",
   "metadata": {},
   "outputs": [],
   "source": [
    "#v)\tApply indexing and slicing on array "
   ]
  },
  {
   "cell_type": "code",
   "execution_count": 44,
   "id": "4bd5441b",
   "metadata": {},
   "outputs": [
    {
     "name": "stdout",
     "output_type": "stream",
     "text": [
      "min 1\n",
      "max 9\n",
      "mean 4.888888888888889\n",
      "median 5.0\n",
      "std 2.401131420552701\n"
     ]
    }
   ],
   "source": [
    "#vi)\tUse statistical functions on array - Min, Max, Mean, Median and Standard Deviation \n",
    "print('min',np.min(a))\n",
    "print('max',np.max(a))\n",
    "print('mean',np.mean(a))\n",
    "print('median',np.median(a))\n",
    "print('std',np.std(a))\n"
   ]
  },
  {
   "cell_type": "code",
   "execution_count": 47,
   "id": "1c77e385",
   "metadata": {},
   "outputs": [
    {
     "data": {
      "text/plain": [
       "array([[ 54,  30,  36],\n",
       "       [183,  78,  93],\n",
       "       [312, 126, 150]])"
      ]
     },
     "execution_count": 47,
     "metadata": {},
     "output_type": "execute_result"
    }
   ],
   "source": [
    "#vii)\tDot and matrix product of two arrays \n",
    "mat1=np.array([[1,2,3],[4,5,6],[7,8,9]])\n",
    "mat2=np.array([[34,5,6],[7,8,9],[2,3,4]])\n",
    "np.dot(mat1,mat2)"
   ]
  },
  {
   "cell_type": "code",
   "execution_count": 48,
   "id": "0dc444d6",
   "metadata": {},
   "outputs": [
    {
     "name": "stdout",
     "output_type": "stream",
     "text": [
      "matrix product\n"
     ]
    },
    {
     "data": {
      "text/plain": [
       "array([[34, 10, 18],\n",
       "       [28, 40, 54],\n",
       "       [14, 24, 36]])"
      ]
     },
     "execution_count": 48,
     "metadata": {},
     "output_type": "execute_result"
    }
   ],
   "source": [
    "print(\"matrix product\")\n",
    "mat1*mat2"
   ]
  },
  {
   "cell_type": "code",
   "execution_count": 50,
   "id": "ee406f2d",
   "metadata": {},
   "outputs": [
    {
     "name": "stdout",
     "output_type": "stream",
     "text": [
      "eigen values [ 1.61168440e+01 -1.11684397e+00 -3.38433605e-16]\n"
     ]
    }
   ],
   "source": [
    "#viii)\tCompute the Eigen values of a matrix \n",
    "w,v=np.linalg.eig(mat1)\n",
    "print(\"eigen values\",w)"
   ]
  },
  {
   "cell_type": "code",
   "execution_count": 61,
   "id": "4909537a",
   "metadata": {},
   "outputs": [
    {
     "name": "stdout",
     "output_type": "stream",
     "text": [
      "[2. 3.]\n"
     ]
    }
   ],
   "source": [
    "#ix)\tSolve a linear matrix equation such as 3 * x0 + x1 = 9, x0 + 2 * x1 = 8 \n",
    "cmat1=np.array([[3,1],[1,2]])\n",
    "cmat2=np.array([9,8])\n",
    "v=np.linalg.solve(cmat1,cmat2)\n",
    "print(v)"
   ]
  },
  {
   "cell_type": "code",
   "execution_count": 54,
   "id": "ffec894d",
   "metadata": {},
   "outputs": [
    {
     "data": {
      "text/plain": [
       "array([[ 3.15251974e+15, -6.30503948e+15,  3.15251974e+15],\n",
       "       [-6.30503948e+15,  1.26100790e+16, -6.30503948e+15],\n",
       "       [ 3.15251974e+15, -6.30503948e+15,  3.15251974e+15]])"
      ]
     },
     "execution_count": 54,
     "metadata": {},
     "output_type": "execute_result"
    }
   ],
   "source": [
    "#x)\tCompute the multiplicative inverse of a matrix \n",
    "np.linalg.inv(mat1)"
   ]
  },
  {
   "cell_type": "code",
   "execution_count": 57,
   "id": "568d27d5",
   "metadata": {},
   "outputs": [
    {
     "data": {
      "text/plain": [
       "2"
      ]
     },
     "execution_count": 57,
     "metadata": {},
     "output_type": "execute_result"
    }
   ],
   "source": [
    "#xi)\tCompute the rank of a matrix \n",
    "np.linalg.matrix_rank(mat1)"
   ]
  },
  {
   "cell_type": "code",
   "execution_count": 55,
   "id": "28688a23",
   "metadata": {},
   "outputs": [
    {
     "data": {
      "text/plain": [
       "-9.51619735392994e-16"
      ]
     },
     "execution_count": 55,
     "metadata": {},
     "output_type": "execute_result"
    }
   ],
   "source": [
    "#Compute the determinant of an array\n",
    "np.linalg.det(mat1)"
   ]
  },
  {
   "cell_type": "code",
   "execution_count": null,
   "id": "fbfec9a4",
   "metadata": {},
   "outputs": [],
   "source": []
  }
 ],
 "metadata": {
  "kernelspec": {
   "display_name": "Python 3 (ipykernel)",
   "language": "python",
   "name": "python3"
  },
  "language_info": {
   "codemirror_mode": {
    "name": "ipython",
    "version": 3
   },
   "file_extension": ".py",
   "mimetype": "text/x-python",
   "name": "python",
   "nbconvert_exporter": "python",
   "pygments_lexer": "ipython3",
   "version": "3.9.7"
  }
 },
 "nbformat": 4,
 "nbformat_minor": 5
}
